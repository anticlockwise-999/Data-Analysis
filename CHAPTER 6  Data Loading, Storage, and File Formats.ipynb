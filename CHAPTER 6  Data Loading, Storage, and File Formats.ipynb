{
 "cells": [
  {
   "cell_type": "code",
   "execution_count": 2,
   "metadata": {},
   "outputs": [],
   "source": [
    "import pandas as pd\n",
    "import numpy as np"
   ]
  },
  {
   "cell_type": "markdown",
   "metadata": {},
   "source": [
    "# Reading and Writing Data in Text Format\n",
    "\n",
    "**read_csv('path'(main),\n",
    "sep,\n",
    "header,\n",
    "index_col,\n",
    "names,\n",
    "skiprows,\n",
    "na_values)**"
   ]
  },
  {
   "cell_type": "code",
   "execution_count": 3,
   "metadata": {},
   "outputs": [],
   "source": [
    "df=pd.read_csv('H:/study/MCU.csv')"
   ]
  },
  {
   "cell_type": "code",
   "execution_count": 4,
   "metadata": {},
   "outputs": [
    {
     "data": {
      "text/html": [
       "<div>\n",
       "<style scoped>\n",
       "    .dataframe tbody tr th:only-of-type {\n",
       "        vertical-align: middle;\n",
       "    }\n",
       "\n",
       "    .dataframe tbody tr th {\n",
       "        vertical-align: top;\n",
       "    }\n",
       "\n",
       "    .dataframe thead th {\n",
       "        text-align: right;\n",
       "    }\n",
       "</style>\n",
       "<table border=\"1\" class=\"dataframe\">\n",
       "  <thead>\n",
       "    <tr style=\"text-align: right;\">\n",
       "      <th></th>\n",
       "      <th>MCU</th>\n",
       "      <th>Budget</th>\n",
       "      <th>US and Canada</th>\n",
       "      <th>REVIEW</th>\n",
       "    </tr>\n",
       "  </thead>\n",
       "  <tbody>\n",
       "    <tr>\n",
       "      <th>0</th>\n",
       "      <td>Iron man</td>\n",
       "      <td>14000000</td>\n",
       "      <td>319034126</td>\n",
       "      <td>SUPER HIT</td>\n",
       "    </tr>\n",
       "    <tr>\n",
       "      <th>1</th>\n",
       "      <td>Hulk</td>\n",
       "      <td>15000000</td>\n",
       "      <td>134806913</td>\n",
       "      <td>HIT</td>\n",
       "    </tr>\n",
       "    <tr>\n",
       "      <th>2</th>\n",
       "      <td>Thor</td>\n",
       "      <td>20000000</td>\n",
       "      <td>312433331</td>\n",
       "      <td>SUPER HIT</td>\n",
       "    </tr>\n",
       "    <tr>\n",
       "      <th>3</th>\n",
       "      <td>Captain America</td>\n",
       "      <td>15000000</td>\n",
       "      <td>181030624</td>\n",
       "      <td>HIT</td>\n",
       "    </tr>\n",
       "  </tbody>\n",
       "</table>\n",
       "</div>"
      ],
      "text/plain": [
       "               MCU    Budget  US and Canada     REVIEW\n",
       "0         Iron man  14000000      319034126  SUPER HIT\n",
       "1             Hulk  15000000      134806913        HIT\n",
       "2             Thor  20000000      312433331  SUPER HIT\n",
       "3  Captain America  15000000      181030624        HIT"
      ]
     },
     "execution_count": 4,
     "metadata": {},
     "output_type": "execute_result"
    }
   ],
   "source": [
    "df.head(4)"
   ]
  },
  {
   "cell_type": "code",
   "execution_count": 5,
   "metadata": {},
   "outputs": [
    {
     "data": {
      "text/html": [
       "<div>\n",
       "<style scoped>\n",
       "    .dataframe tbody tr th:only-of-type {\n",
       "        vertical-align: middle;\n",
       "    }\n",
       "\n",
       "    .dataframe tbody tr th {\n",
       "        vertical-align: top;\n",
       "    }\n",
       "\n",
       "    .dataframe thead th {\n",
       "        text-align: right;\n",
       "    }\n",
       "</style>\n",
       "<table border=\"1\" class=\"dataframe\">\n",
       "  <thead>\n",
       "    <tr style=\"text-align: right;\">\n",
       "      <th></th>\n",
       "      <th>0</th>\n",
       "      <th>1</th>\n",
       "      <th>2</th>\n",
       "      <th>3</th>\n",
       "    </tr>\n",
       "  </thead>\n",
       "  <tbody>\n",
       "    <tr>\n",
       "      <th>0</th>\n",
       "      <td>MCU</td>\n",
       "      <td>Budget</td>\n",
       "      <td>US and Canada</td>\n",
       "      <td>REVIEW</td>\n",
       "    </tr>\n",
       "    <tr>\n",
       "      <th>1</th>\n",
       "      <td>Iron man</td>\n",
       "      <td>14000000</td>\n",
       "      <td>319034126</td>\n",
       "      <td>SUPER HIT</td>\n",
       "    </tr>\n",
       "    <tr>\n",
       "      <th>2</th>\n",
       "      <td>Hulk</td>\n",
       "      <td>15000000</td>\n",
       "      <td>134806913</td>\n",
       "      <td>HIT</td>\n",
       "    </tr>\n",
       "    <tr>\n",
       "      <th>3</th>\n",
       "      <td>Thor</td>\n",
       "      <td>20000000</td>\n",
       "      <td>312433331</td>\n",
       "      <td>SUPER HIT</td>\n",
       "    </tr>\n",
       "    <tr>\n",
       "      <th>4</th>\n",
       "      <td>Captain America</td>\n",
       "      <td>15000000</td>\n",
       "      <td>181030624</td>\n",
       "      <td>HIT</td>\n",
       "    </tr>\n",
       "    <tr>\n",
       "      <th>5</th>\n",
       "      <td>Avengers</td>\n",
       "      <td>22000000</td>\n",
       "      <td>623357910</td>\n",
       "      <td>BLOCKBLUSTER</td>\n",
       "    </tr>\n",
       "  </tbody>\n",
       "</table>\n",
       "</div>"
      ],
      "text/plain": [
       "                 0         1              2             3\n",
       "0              MCU    Budget  US and Canada        REVIEW\n",
       "1         Iron man  14000000      319034126     SUPER HIT\n",
       "2             Hulk  15000000      134806913           HIT\n",
       "3             Thor  20000000      312433331     SUPER HIT\n",
       "4  Captain America  15000000      181030624           HIT\n",
       "5         Avengers  22000000      623357910  BLOCKBLUSTER"
      ]
     },
     "execution_count": 5,
     "metadata": {},
     "output_type": "execute_result"
    }
   ],
   "source": [
    " pd.read_csv('H:/study/MCU.csv', header=None)"
   ]
  },
  {
   "cell_type": "code",
   "execution_count": 6,
   "metadata": {},
   "outputs": [
    {
     "data": {
      "text/html": [
       "<div>\n",
       "<style scoped>\n",
       "    .dataframe tbody tr th:only-of-type {\n",
       "        vertical-align: middle;\n",
       "    }\n",
       "\n",
       "    .dataframe tbody tr th {\n",
       "        vertical-align: top;\n",
       "    }\n",
       "\n",
       "    .dataframe thead th {\n",
       "        text-align: right;\n",
       "    }\n",
       "</style>\n",
       "<table border=\"1\" class=\"dataframe\">\n",
       "  <thead>\n",
       "    <tr style=\"text-align: right;\">\n",
       "      <th></th>\n",
       "      <th>MCU,Budget,US and Canada,REVIEW</th>\n",
       "    </tr>\n",
       "  </thead>\n",
       "  <tbody>\n",
       "    <tr>\n",
       "      <th>0</th>\n",
       "      <td>Iron man,14000000,319034126,SUPER HIT</td>\n",
       "    </tr>\n",
       "    <tr>\n",
       "      <th>1</th>\n",
       "      <td>Hulk,15000000,134806913,HIT</td>\n",
       "    </tr>\n",
       "    <tr>\n",
       "      <th>2</th>\n",
       "      <td>Thor,20000000,312433331,SUPER HIT</td>\n",
       "    </tr>\n",
       "    <tr>\n",
       "      <th>3</th>\n",
       "      <td>Captain America,15000000,181030624,HIT</td>\n",
       "    </tr>\n",
       "    <tr>\n",
       "      <th>4</th>\n",
       "      <td>Avengers,22000000,623357910,BLOCKBLUSTER</td>\n",
       "    </tr>\n",
       "  </tbody>\n",
       "</table>\n",
       "</div>"
      ],
      "text/plain": [
       "            MCU,Budget,US and Canada,REVIEW\n",
       "0     Iron man,14000000,319034126,SUPER HIT\n",
       "1               Hulk,15000000,134806913,HIT\n",
       "2         Thor,20000000,312433331,SUPER HIT\n",
       "3    Captain America,15000000,181030624,HIT\n",
       "4  Avengers,22000000,623357910,BLOCKBLUSTER"
      ]
     },
     "execution_count": 6,
     "metadata": {},
     "output_type": "execute_result"
    }
   ],
   "source": [
    "pd.read_table('H:/study/MCU.csv')"
   ]
  },
  {
   "cell_type": "code",
   "execution_count": 7,
   "metadata": {},
   "outputs": [
    {
     "data": {
      "text/html": [
       "<div>\n",
       "<style scoped>\n",
       "    .dataframe tbody tr th:only-of-type {\n",
       "        vertical-align: middle;\n",
       "    }\n",
       "\n",
       "    .dataframe tbody tr th {\n",
       "        vertical-align: top;\n",
       "    }\n",
       "\n",
       "    .dataframe thead th {\n",
       "        text-align: right;\n",
       "    }\n",
       "</style>\n",
       "<table border=\"1\" class=\"dataframe\">\n",
       "  <thead>\n",
       "    <tr style=\"text-align: right;\">\n",
       "      <th></th>\n",
       "      <th>a</th>\n",
       "      <th>b</th>\n",
       "      <th>c</th>\n",
       "      <th>message</th>\n",
       "    </tr>\n",
       "  </thead>\n",
       "  <tbody>\n",
       "    <tr>\n",
       "      <th>0</th>\n",
       "      <td>MCU</td>\n",
       "      <td>Budget</td>\n",
       "      <td>US and Canada</td>\n",
       "      <td>REVIEW</td>\n",
       "    </tr>\n",
       "    <tr>\n",
       "      <th>1</th>\n",
       "      <td>Iron man</td>\n",
       "      <td>14000000</td>\n",
       "      <td>319034126</td>\n",
       "      <td>SUPER HIT</td>\n",
       "    </tr>\n",
       "    <tr>\n",
       "      <th>2</th>\n",
       "      <td>Hulk</td>\n",
       "      <td>15000000</td>\n",
       "      <td>134806913</td>\n",
       "      <td>HIT</td>\n",
       "    </tr>\n",
       "    <tr>\n",
       "      <th>3</th>\n",
       "      <td>Thor</td>\n",
       "      <td>20000000</td>\n",
       "      <td>312433331</td>\n",
       "      <td>SUPER HIT</td>\n",
       "    </tr>\n",
       "    <tr>\n",
       "      <th>4</th>\n",
       "      <td>Captain America</td>\n",
       "      <td>15000000</td>\n",
       "      <td>181030624</td>\n",
       "      <td>HIT</td>\n",
       "    </tr>\n",
       "    <tr>\n",
       "      <th>5</th>\n",
       "      <td>Avengers</td>\n",
       "      <td>22000000</td>\n",
       "      <td>623357910</td>\n",
       "      <td>BLOCKBLUSTER</td>\n",
       "    </tr>\n",
       "  </tbody>\n",
       "</table>\n",
       "</div>"
      ],
      "text/plain": [
       "                 a         b              c       message\n",
       "0              MCU    Budget  US and Canada        REVIEW\n",
       "1         Iron man  14000000      319034126     SUPER HIT\n",
       "2             Hulk  15000000      134806913           HIT\n",
       "3             Thor  20000000      312433331     SUPER HIT\n",
       "4  Captain America  15000000      181030624           HIT\n",
       "5         Avengers  22000000      623357910  BLOCKBLUSTER"
      ]
     },
     "execution_count": 7,
     "metadata": {},
     "output_type": "execute_result"
    }
   ],
   "source": [
    "pd.read_csv('H:/study/MCU.csv', names=['a', 'b', 'c',  'message'])"
   ]
  },
  {
   "cell_type": "code",
   "execution_count": 8,
   "metadata": {},
   "outputs": [],
   "source": [
    "names = ['a', 'b', 'c', 'message']"
   ]
  },
  {
   "cell_type": "code",
   "execution_count": 9,
   "metadata": {},
   "outputs": [
    {
     "data": {
      "text/plain": [
       "['a', 'b', 'c', 'message']"
      ]
     },
     "execution_count": 9,
     "metadata": {},
     "output_type": "execute_result"
    }
   ],
   "source": [
    "names"
   ]
  },
  {
   "cell_type": "code",
   "execution_count": 10,
   "metadata": {},
   "outputs": [
    {
     "data": {
      "text/html": [
       "<div>\n",
       "<style scoped>\n",
       "    .dataframe tbody tr th:only-of-type {\n",
       "        vertical-align: middle;\n",
       "    }\n",
       "\n",
       "    .dataframe tbody tr th {\n",
       "        vertical-align: top;\n",
       "    }\n",
       "\n",
       "    .dataframe thead th {\n",
       "        text-align: right;\n",
       "    }\n",
       "</style>\n",
       "<table border=\"1\" class=\"dataframe\">\n",
       "  <thead>\n",
       "    <tr style=\"text-align: right;\">\n",
       "      <th></th>\n",
       "      <th>a</th>\n",
       "      <th>b</th>\n",
       "      <th>c</th>\n",
       "    </tr>\n",
       "    <tr>\n",
       "      <th>message</th>\n",
       "      <th></th>\n",
       "      <th></th>\n",
       "      <th></th>\n",
       "    </tr>\n",
       "  </thead>\n",
       "  <tbody>\n",
       "    <tr>\n",
       "      <th>REVIEW</th>\n",
       "      <td>MCU</td>\n",
       "      <td>Budget</td>\n",
       "      <td>US and Canada</td>\n",
       "    </tr>\n",
       "    <tr>\n",
       "      <th>SUPER HIT</th>\n",
       "      <td>Iron man</td>\n",
       "      <td>14000000</td>\n",
       "      <td>319034126</td>\n",
       "    </tr>\n",
       "    <tr>\n",
       "      <th>HIT</th>\n",
       "      <td>Hulk</td>\n",
       "      <td>15000000</td>\n",
       "      <td>134806913</td>\n",
       "    </tr>\n",
       "    <tr>\n",
       "      <th>SUPER HIT</th>\n",
       "      <td>Thor</td>\n",
       "      <td>20000000</td>\n",
       "      <td>312433331</td>\n",
       "    </tr>\n",
       "    <tr>\n",
       "      <th>HIT</th>\n",
       "      <td>Captain America</td>\n",
       "      <td>15000000</td>\n",
       "      <td>181030624</td>\n",
       "    </tr>\n",
       "    <tr>\n",
       "      <th>BLOCKBLUSTER</th>\n",
       "      <td>Avengers</td>\n",
       "      <td>22000000</td>\n",
       "      <td>623357910</td>\n",
       "    </tr>\n",
       "  </tbody>\n",
       "</table>\n",
       "</div>"
      ],
      "text/plain": [
       "                            a         b              c\n",
       "message                                               \n",
       "REVIEW                    MCU    Budget  US and Canada\n",
       "SUPER HIT            Iron man  14000000      319034126\n",
       "HIT                      Hulk  15000000      134806913\n",
       "SUPER HIT                Thor  20000000      312433331\n",
       "HIT           Captain America  15000000      181030624\n",
       "BLOCKBLUSTER         Avengers  22000000      623357910"
      ]
     },
     "execution_count": 10,
     "metadata": {},
     "output_type": "execute_result"
    }
   ],
   "source": [
    " pd.read_csv('H:/study/MCU.csv', names=names, index_col='message')"
   ]
  },
  {
   "cell_type": "code",
   "execution_count": 11,
   "metadata": {},
   "outputs": [
    {
     "data": {
      "text/plain": [
       "['ï»¿MCU,Budget,US and Canada,REVIEW\\n',\n",
       " 'Iron man,14000000,319034126,SUPER HIT\\n',\n",
       " 'Hulk,15000000,134806913,HIT\\n',\n",
       " 'Thor,20000000,312433331,SUPER HIT\\n',\n",
       " 'Captain America,15000000,181030624,HIT\\n',\n",
       " 'Avengers,22000000,623357910,BLOCKBLUSTER\\n']"
      ]
     },
     "execution_count": 11,
     "metadata": {},
     "output_type": "execute_result"
    }
   ],
   "source": [
    "list(open('H:/study/MCU.csv'))"
   ]
  },
  {
   "cell_type": "markdown",
   "metadata": {},
   "source": [
    "# Reading Text Files in Pieces"
   ]
  },
  {
   "cell_type": "code",
   "execution_count": 14,
   "metadata": {},
   "outputs": [],
   "source": [
    "result = pd.read_csv('H:/study/MCU.csv')"
   ]
  },
  {
   "cell_type": "code",
   "execution_count": 15,
   "metadata": {},
   "outputs": [
    {
     "data": {
      "text/html": [
       "<div>\n",
       "<style scoped>\n",
       "    .dataframe tbody tr th:only-of-type {\n",
       "        vertical-align: middle;\n",
       "    }\n",
       "\n",
       "    .dataframe tbody tr th {\n",
       "        vertical-align: top;\n",
       "    }\n",
       "\n",
       "    .dataframe thead th {\n",
       "        text-align: right;\n",
       "    }\n",
       "</style>\n",
       "<table border=\"1\" class=\"dataframe\">\n",
       "  <thead>\n",
       "    <tr style=\"text-align: right;\">\n",
       "      <th></th>\n",
       "      <th>MCU</th>\n",
       "      <th>Budget</th>\n",
       "      <th>US and Canada</th>\n",
       "      <th>REVIEW</th>\n",
       "    </tr>\n",
       "  </thead>\n",
       "  <tbody>\n",
       "    <tr>\n",
       "      <th>0</th>\n",
       "      <td>Iron man</td>\n",
       "      <td>14000000</td>\n",
       "      <td>319034126</td>\n",
       "      <td>SUPER HIT</td>\n",
       "    </tr>\n",
       "    <tr>\n",
       "      <th>1</th>\n",
       "      <td>Hulk</td>\n",
       "      <td>15000000</td>\n",
       "      <td>134806913</td>\n",
       "      <td>HIT</td>\n",
       "    </tr>\n",
       "    <tr>\n",
       "      <th>2</th>\n",
       "      <td>Thor</td>\n",
       "      <td>20000000</td>\n",
       "      <td>312433331</td>\n",
       "      <td>SUPER HIT</td>\n",
       "    </tr>\n",
       "    <tr>\n",
       "      <th>3</th>\n",
       "      <td>Captain America</td>\n",
       "      <td>15000000</td>\n",
       "      <td>181030624</td>\n",
       "      <td>HIT</td>\n",
       "    </tr>\n",
       "    <tr>\n",
       "      <th>4</th>\n",
       "      <td>Avengers</td>\n",
       "      <td>22000000</td>\n",
       "      <td>623357910</td>\n",
       "      <td>BLOCKBLUSTER</td>\n",
       "    </tr>\n",
       "  </tbody>\n",
       "</table>\n",
       "</div>"
      ],
      "text/plain": [
       "               MCU    Budget  US and Canada        REVIEW\n",
       "0         Iron man  14000000      319034126     SUPER HIT\n",
       "1             Hulk  15000000      134806913           HIT\n",
       "2             Thor  20000000      312433331     SUPER HIT\n",
       "3  Captain America  15000000      181030624           HIT\n",
       "4         Avengers  22000000      623357910  BLOCKBLUSTER"
      ]
     },
     "execution_count": 15,
     "metadata": {},
     "output_type": "execute_result"
    }
   ],
   "source": [
    "result"
   ]
  },
  {
   "cell_type": "code",
   "execution_count": 16,
   "metadata": {},
   "outputs": [
    {
     "data": {
      "text/html": [
       "<div>\n",
       "<style scoped>\n",
       "    .dataframe tbody tr th:only-of-type {\n",
       "        vertical-align: middle;\n",
       "    }\n",
       "\n",
       "    .dataframe tbody tr th {\n",
       "        vertical-align: top;\n",
       "    }\n",
       "\n",
       "    .dataframe thead th {\n",
       "        text-align: right;\n",
       "    }\n",
       "</style>\n",
       "<table border=\"1\" class=\"dataframe\">\n",
       "  <thead>\n",
       "    <tr style=\"text-align: right;\">\n",
       "      <th></th>\n",
       "      <th>MCU</th>\n",
       "      <th>Budget</th>\n",
       "      <th>US and Canada</th>\n",
       "      <th>REVIEW</th>\n",
       "    </tr>\n",
       "  </thead>\n",
       "  <tbody>\n",
       "    <tr>\n",
       "      <th>0</th>\n",
       "      <td>Iron man</td>\n",
       "      <td>14000000</td>\n",
       "      <td>319034126</td>\n",
       "      <td>SUPER HIT</td>\n",
       "    </tr>\n",
       "    <tr>\n",
       "      <th>1</th>\n",
       "      <td>Hulk</td>\n",
       "      <td>15000000</td>\n",
       "      <td>134806913</td>\n",
       "      <td>HIT</td>\n",
       "    </tr>\n",
       "    <tr>\n",
       "      <th>2</th>\n",
       "      <td>Thor</td>\n",
       "      <td>20000000</td>\n",
       "      <td>312433331</td>\n",
       "      <td>SUPER HIT</td>\n",
       "    </tr>\n",
       "  </tbody>\n",
       "</table>\n",
       "</div>"
      ],
      "text/plain": [
       "        MCU    Budget  US and Canada     REVIEW\n",
       "0  Iron man  14000000      319034126  SUPER HIT\n",
       "1      Hulk  15000000      134806913        HIT\n",
       "2      Thor  20000000      312433331  SUPER HIT"
      ]
     },
     "execution_count": 16,
     "metadata": {},
     "output_type": "execute_result"
    }
   ],
   "source": [
    " pd.read_csv('H:/study/MCU.csv', nrows=3)"
   ]
  },
  {
   "cell_type": "code",
   "execution_count": 28,
   "metadata": {},
   "outputs": [],
   "source": [
    "import csv\n",
    "lines = list(csv.reader(open('H:/study/MCU.csv')))"
   ]
  },
  {
   "cell_type": "code",
   "execution_count": 29,
   "metadata": {},
   "outputs": [
    {
     "data": {
      "text/plain": [
       "[['', 'MCU', 'Budget', 'US and Canada', 'REVIEW'],\n",
       " ['0', 'Iron man', '14000000', '319034126', 'SUPER HIT'],\n",
       " ['1', 'Hulk', '15000000', '134806913', 'HIT'],\n",
       " ['2', 'Thor', '20000000', '312433331', 'SUPER HIT'],\n",
       " ['3', 'Captain America', '15000000', '181030624', 'HIT'],\n",
       " ['4', 'Avengers', '22000000', '623357910', 'BLOCKBLUSTER']]"
      ]
     },
     "execution_count": 29,
     "metadata": {},
     "output_type": "execute_result"
    }
   ],
   "source": [
    "lines"
   ]
  },
  {
   "cell_type": "code",
   "execution_count": null,
   "metadata": {},
   "outputs": [],
   "source": []
  }
 ],
 "metadata": {
  "kernelspec": {
   "display_name": "Python 3",
   "language": "python",
   "name": "python3"
  },
  "language_info": {
   "codemirror_mode": {
    "name": "ipython",
    "version": 3
   },
   "file_extension": ".py",
   "mimetype": "text/x-python",
   "name": "python",
   "nbconvert_exporter": "python",
   "pygments_lexer": "ipython3",
   "version": "3.8.3"
  }
 },
 "nbformat": 4,
 "nbformat_minor": 4
}
